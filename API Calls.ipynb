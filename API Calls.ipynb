{
 "cells": [
  {
   "cell_type": "markdown",
   "id": "30a3c549",
   "metadata": {},
   "source": [
    "### LIBRARIEAS"
   ]
  },
  {
   "cell_type": "code",
   "execution_count": 1,
   "id": "3f0eb067",
   "metadata": {},
   "outputs": [],
   "source": [
    "# Import Libraries\n",
    "\n",
    "import pandas as pd\n",
    "import numpy as np\n",
    "import matplotlib.pyplot as plt\n",
    "import seaborn as sns\n",
    "\n",
    "import os, json, math, time\n",
    "import tmdbsimple as tmdb\n",
    "from tqdm.notebook import tqdm_notebook"
   ]
  },
  {
   "cell_type": "markdown",
   "id": "721dd1cb",
   "metadata": {
    "heading_collapsed": true
   },
   "source": [
    "### API CREDENTIALS"
   ]
  },
  {
   "cell_type": "code",
   "execution_count": 13,
   "id": "6a28363a",
   "metadata": {
    "hidden": true
   },
   "outputs": [],
   "source": [
    "# Load API Credentials\n",
    "\n",
    "with open('/Users/kritpatel/.secret/tmdb_api.json', 'r') as f:\n",
    "    creds = json.load(f)"
   ]
  },
  {
   "cell_type": "code",
   "execution_count": 14,
   "id": "a0b22118",
   "metadata": {
    "hidden": true
   },
   "outputs": [
    {
     "data": {
      "text/plain": [
       "dict_keys(['api-key'])"
      ]
     },
     "execution_count": 14,
     "metadata": {},
     "output_type": "execute_result"
    }
   ],
   "source": [
    "# Check if the credentials are loaded\n",
    "\n",
    "creds.keys()"
   ]
  },
  {
   "cell_type": "code",
   "execution_count": 15,
   "id": "28e86978",
   "metadata": {
    "hidden": true
   },
   "outputs": [],
   "source": [
    "# Load the Credentials to tmdb.api_key\n",
    "\n",
    "tmdb.API_KEY = creds['api-key']"
   ]
  },
  {
   "cell_type": "markdown",
   "id": "ec640b34",
   "metadata": {},
   "source": [
    "### FUNCTION TO ADD RATINGS"
   ]
  },
  {
   "cell_type": "code",
   "execution_count": 32,
   "id": "36ddd6ad",
   "metadata": {},
   "outputs": [
    {
     "data": {
      "text/plain": [
       "{'adult': False,\n",
       " 'backdrop_path': '/y9wuhlrqSHvhTLNVNwKMKe6HZzY.jpg',\n",
       " 'belongs_to_collection': {'id': 2344,\n",
       "  'name': 'The Matrix Collection',\n",
       "  'poster_path': '/bV9qTVHTVf0gkW0j7p7M0ILD4pG.jpg',\n",
       "  'backdrop_path': '/bRm2DEgUiYciDw3myHuYFInD7la.jpg'},\n",
       " 'budget': 63000000,\n",
       " 'genres': [{'id': 28, 'name': 'Action'},\n",
       "  {'id': 878, 'name': 'Science Fiction'}],\n",
       " 'homepage': 'http://www.warnerbros.com/matrix',\n",
       " 'id': 603,\n",
       " 'imdb_id': 'tt0133093',\n",
       " 'original_language': 'en',\n",
       " 'original_title': 'The Matrix',\n",
       " 'overview': 'Set in the 22nd century, The Matrix tells the story of a computer hacker who joins a group of underground insurgents fighting the vast and powerful computers who now rule the earth.',\n",
       " 'popularity': 62.049,\n",
       " 'poster_path': '/f89U3ADr1oiB1s9GkdPOEpXUk5H.jpg',\n",
       " 'production_companies': [{'id': 79,\n",
       "   'logo_path': '/tpFpsqbleCzEE2p5EgvUq6ozfCA.png',\n",
       "   'name': 'Village Roadshow Pictures',\n",
       "   'origin_country': 'US'},\n",
       "  {'id': 174,\n",
       "   'logo_path': '/IuAlhI9eVC9Z8UQWOIDdWRKSEJ.png',\n",
       "   'name': 'Warner Bros. Pictures',\n",
       "   'origin_country': 'US'},\n",
       "  {'id': 372,\n",
       "   'logo_path': None,\n",
       "   'name': 'Groucho II Film Partnership',\n",
       "   'origin_country': ''},\n",
       "  {'id': 1885,\n",
       "   'logo_path': '/tXMFoE8AtNdnFzWOW0aCLwl7xxS.png',\n",
       "   'name': 'Silver Pictures',\n",
       "   'origin_country': 'US'}],\n",
       " 'production_countries': [{'iso_3166_1': 'US',\n",
       "   'name': 'United States of America'}],\n",
       " 'release_date': '1999-03-30',\n",
       " 'revenue': 463517383,\n",
       " 'runtime': 136,\n",
       " 'spoken_languages': [{'english_name': 'English',\n",
       "   'iso_639_1': 'en',\n",
       "   'name': 'English'}],\n",
       " 'status': 'Released',\n",
       " 'tagline': 'Welcome to the Real World.',\n",
       " 'title': 'The Matrix',\n",
       " 'video': False,\n",
       " 'vote_average': 8.189,\n",
       " 'vote_count': 21834}"
      ]
     },
     "execution_count": 32,
     "metadata": {},
     "output_type": "execute_result"
    }
   ],
   "source": [
    "# TEST MOVIE\n",
    "\n",
    "movie = tmdb.Movies(603)\n",
    "movie_info = movie.info()\n",
    "movie_info"
   ]
  },
  {
   "cell_type": "code",
   "execution_count": 31,
   "id": "7ecd6469",
   "metadata": {},
   "outputs": [],
   "source": [
    "def write_json(new_data, filename): \n",
    "    \"\"\"Adapted from: https://www.geeksforgeeks.org/append-to-json-file-using-python/\"\"\"    \n",
    "    \n",
    "    with open(filename,'r+') as file:\n",
    "        # First we load existing data into a dict.\n",
    "        file_data = json.load(file)\n",
    "        ## Choose extend or append\n",
    "        if (type(new_data) == list) & (type(file_data) == list):\n",
    "            file_data.extend(new_data)\n",
    "        else:\n",
    "             file_data.append(new_data)\n",
    "        # Sets file's current position at offset.\n",
    "        file.seek(0)\n",
    "        # convert back to json.\n",
    "        json.dump(file_data, file)"
   ]
  },
  {
   "cell_type": "code",
   "execution_count": 27,
   "id": "b6feb4b2",
   "metadata": {},
   "outputs": [],
   "source": [
    "# This function will add the certification (MPGG Rating) to movie.info\n",
    "\n",
    "def get_movie_with_rating(movie_id):\n",
    "    \n",
    "    # Get movie for the current id\n",
    "    movie = tmdb.Movies(movie_id)\n",
    "    \n",
    "    # Save the .info and .release dictionaries\n",
    "    movie_info = movie.info()\n",
    "    releases = movie.releases()\n",
    "    \n",
    "    # Loop through countries in releases\n",
    "    for c in releases['countries']:\n",
    "        \n",
    "        # If country abbreviation = US\n",
    "        if c['iso_3166_1']== 'US':\n",
    "            \n",
    "            # Save a 'certification' key in the info dict with the certification\n",
    "            movie_info['certification'] = c['certification']\n",
    "            \n",
    "    return movie_info"
   ]
  },
  {
   "cell_type": "code",
   "execution_count": 28,
   "id": "15fb69bc",
   "metadata": {},
   "outputs": [
    {
     "data": {
      "text/plain": [
       "{'adult': False,\n",
       " 'backdrop_path': '/y9wuhlrqSHvhTLNVNwKMKe6HZzY.jpg',\n",
       " 'belongs_to_collection': {'id': 2344,\n",
       "  'name': 'The Matrix Collection',\n",
       "  'poster_path': '/bV9qTVHTVf0gkW0j7p7M0ILD4pG.jpg',\n",
       "  'backdrop_path': '/bRm2DEgUiYciDw3myHuYFInD7la.jpg'},\n",
       " 'budget': 63000000,\n",
       " 'genres': [{'id': 28, 'name': 'Action'},\n",
       "  {'id': 878, 'name': 'Science Fiction'}],\n",
       " 'homepage': 'http://www.warnerbros.com/matrix',\n",
       " 'id': 603,\n",
       " 'imdb_id': 'tt0133093',\n",
       " 'original_language': 'en',\n",
       " 'original_title': 'The Matrix',\n",
       " 'overview': 'Set in the 22nd century, The Matrix tells the story of a computer hacker who joins a group of underground insurgents fighting the vast and powerful computers who now rule the earth.',\n",
       " 'popularity': 62.049,\n",
       " 'poster_path': '/f89U3ADr1oiB1s9GkdPOEpXUk5H.jpg',\n",
       " 'production_companies': [{'id': 79,\n",
       "   'logo_path': '/tpFpsqbleCzEE2p5EgvUq6ozfCA.png',\n",
       "   'name': 'Village Roadshow Pictures',\n",
       "   'origin_country': 'US'},\n",
       "  {'id': 174,\n",
       "   'logo_path': '/IuAlhI9eVC9Z8UQWOIDdWRKSEJ.png',\n",
       "   'name': 'Warner Bros. Pictures',\n",
       "   'origin_country': 'US'},\n",
       "  {'id': 372,\n",
       "   'logo_path': None,\n",
       "   'name': 'Groucho II Film Partnership',\n",
       "   'origin_country': ''},\n",
       "  {'id': 1885,\n",
       "   'logo_path': '/tXMFoE8AtNdnFzWOW0aCLwl7xxS.png',\n",
       "   'name': 'Silver Pictures',\n",
       "   'origin_country': 'US'}],\n",
       " 'production_countries': [{'iso_3166_1': 'US',\n",
       "   'name': 'United States of America'}],\n",
       " 'release_date': '1999-03-30',\n",
       " 'revenue': 463517383,\n",
       " 'runtime': 136,\n",
       " 'spoken_languages': [{'english_name': 'English',\n",
       "   'iso_639_1': 'en',\n",
       "   'name': 'English'}],\n",
       " 'status': 'Released',\n",
       " 'tagline': 'Welcome to the Real World.',\n",
       " 'title': 'The Matrix',\n",
       " 'video': False,\n",
       " 'vote_average': 8.189,\n",
       " 'vote_count': 21834,\n",
       " 'certification': 'R'}"
      ]
     },
     "execution_count": 28,
     "metadata": {},
     "output_type": "execute_result"
    }
   ],
   "source": [
    "# Test the Function\n",
    "\n",
    "get_movie_with_rating(603)"
   ]
  },
  {
   "cell_type": "markdown",
   "id": "fa5fd5cb",
   "metadata": {},
   "source": [
    "### DEFINE EXTRACTION PARAMETERS\n"
   ]
  },
  {
   "cell_type": "code",
   "execution_count": 30,
   "id": "b745f240",
   "metadata": {},
   "outputs": [],
   "source": [
    "# Set Parameters\n",
    "\n",
    "YEARS_TO_GET = [2000, 2001]"
   ]
  },
  {
   "cell_type": "markdown",
   "id": "748dc159",
   "metadata": {},
   "source": [
    "### STORAGE FOLDER\n"
   ]
  },
  {
   "cell_type": "code",
   "execution_count": 29,
   "id": "91b26cf2",
   "metadata": {},
   "outputs": [
    {
     "data": {
      "text/plain": [
       "['title_basics.csv.gz', 'title_akas.csv.gz', 'title_ratings.csv.gz']"
      ]
     },
     "execution_count": 29,
     "metadata": {},
     "output_type": "execute_result"
    }
   ],
   "source": [
    "# Open previously saved files from the Data folder\n",
    "\n",
    "FOLDER = \"Data/\"\n",
    "os.listdir(FOLDER)"
   ]
  },
  {
   "cell_type": "markdown",
   "id": "2a103c3e",
   "metadata": {},
   "source": [
    "### LOOP TO EXTRACT & SAVE THE DATA"
   ]
  },
  {
   "cell_type": "code",
   "execution_count": 37,
   "id": "46e2b8cc",
   "metadata": {},
   "outputs": [
    {
     "data": {
      "application/vnd.jupyter.widget-view+json": {
       "model_id": "fc1c834ded2b448c855c528833b58e48",
       "version_major": 2,
       "version_minor": 0
      },
      "text/plain": [
       "YEARS:   0%|          | 0/2 [00:00<?, ?it/s]"
      ]
     },
     "metadata": {},
     "output_type": "display_data"
    },
    {
     "data": {
      "application/vnd.jupyter.widget-view+json": {
       "model_id": "281b7871b45d4149b194437ae6aa6d80",
       "version_major": 2,
       "version_minor": 0
      },
      "text/plain": [
       "Movies from 2000:   0%|          | 0/1409 [00:00<?, ?it/s]"
      ]
     },
     "metadata": {},
     "output_type": "display_data"
    },
    {
     "data": {
      "application/vnd.jupyter.widget-view+json": {
       "model_id": "c506c2fc15c7492295371448f4456ad3",
       "version_major": 2,
       "version_minor": 0
      },
      "text/plain": [
       "Movies from 2001:   0%|          | 0/1525 [00:00<?, ?it/s]"
      ]
     },
     "metadata": {},
     "output_type": "display_data"
    }
   ],
   "source": [
    "# Start Outer Loop\n",
    "for YEAR in tqdm_notebook(YEARS_TO_GET, desc= 'YEARS', position= 0):\n",
    "    \n",
    "\n",
    "    # Definie the JSON file to store results for year\n",
    "\n",
    "    JSON_FILE = f'{FOLDER}tmdb_api_results_{YEAR}.json'\n",
    "\n",
    "    # Check if file exists\n",
    "\n",
    "    file_exists = os.path.isfile(JSON_FILE)\n",
    "\n",
    "\n",
    "    # If it doesn't exist create it\n",
    "\n",
    "    if file_exists == False:\n",
    "\n",
    "        # Save an empty dict with just the 'imdb_id' to the new JSON_FILE\n",
    "\n",
    "        with open(JSON_FILE,'w') as f:\n",
    "            json.dump([{'imdb_id': 0}], f)\n",
    "\n",
    "\n",
    "\n",
    "    # Load the basics dataframe from part 1:\n",
    "\n",
    "    basics = pd.read_csv('Data/title_basics.csv.gz')\n",
    "\n",
    "    # Saving the new year as the current data frame\n",
    "\n",
    "    df=basics.loc[basics['startYear']== YEAR].copy()\n",
    "\n",
    "    # Saving movie ids to list\n",
    "\n",
    "    movie_ids = df['tconst'].copy()\n",
    "\n",
    "    # Load Existing Data from JSON into previous_df dataframe\n",
    "\n",
    "    previous_df = pd.read_json(JSON_FILE)\n",
    "\n",
    "    # Filter out any ids that are already in the JSON_FILE\n",
    "\n",
    "    movie_ids_to_get = movie_ids[-movie_ids.isin(previous_df['imdb_id'])]\n",
    "\n",
    "    # Get index and movie id from list\n",
    "    # INNER LOOP\n",
    "    for movie_id in tqdm_notebook(movie_ids_to_get,\n",
    "                                 desc= f'Movies from {YEAR}',\n",
    "                                 position= 1, \n",
    "                                 leave= True):\n",
    "\n",
    "            # Attempt to retreive the data for the movie id\n",
    "            try:\n",
    "                # Add rating to movie using function\n",
    "                temp= get_movie_with_rating(movie_id)\n",
    "\n",
    "                write_json(temp, JSON_FILE)\n",
    "\n",
    "                time.sleep(0.02)\n",
    "\n",
    "            # If it fails make a dict with just the id and None for certification\n",
    "            except Exception as e:\n",
    "                continue\n",
    "\n",
    "    final_year_df = pd.read_json(JSON_FILE)\n",
    "    final_year_df.to_csv(f\"{FOLDER}final_tmdb_data_{YEAR}.csv.gz\",\n",
    "                         compression= \"gzip\", index= False)"
   ]
  },
  {
   "cell_type": "code",
   "execution_count": null,
   "id": "611f95b4",
   "metadata": {},
   "outputs": [],
   "source": []
  }
 ],
 "metadata": {
  "kernelspec": {
   "display_name": "Python 3 (ipykernel)",
   "language": "python",
   "name": "python3"
  },
  "language_info": {
   "codemirror_mode": {
    "name": "ipython",
    "version": 3
   },
   "file_extension": ".py",
   "mimetype": "text/x-python",
   "name": "python",
   "nbconvert_exporter": "python",
   "pygments_lexer": "ipython3",
   "version": "3.8.13"
  },
  "toc": {
   "base_numbering": 1,
   "nav_menu": {},
   "number_sections": false,
   "sideBar": true,
   "skip_h1_title": false,
   "title_cell": "Table of Contents",
   "title_sidebar": "Contents",
   "toc_cell": false,
   "toc_position": {},
   "toc_section_display": true,
   "toc_window_display": true
  }
 },
 "nbformat": 4,
 "nbformat_minor": 5
}
